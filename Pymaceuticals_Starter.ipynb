{
 "cells": [
  {
   "cell_type": "markdown",
   "metadata": {},
   "source": [
    "# Pymaceuticals Inc.\n",
    "---\n",
    "\n",
    "### Observations and Insights\n",
    "- *Your observations and insights here* ...\n"
   ]
  },
  {
   "cell_type": "code",
   "execution_count": 450,
   "metadata": {},
   "outputs": [
    {
     "name": "stdout",
     "output_type": "stream",
     "text": [
      "     Mouse ID Drug Regimen   Sex  Age_months  Weight (g)  Timepoint  \\\n",
      "0        k403     Ramicane  Male          21          16          0   \n",
      "1        k403     Ramicane  Male          21          16          5   \n",
      "2        k403     Ramicane  Male          21          16         10   \n",
      "3        k403     Ramicane  Male          21          16         15   \n",
      "4        k403     Ramicane  Male          21          16         20   \n",
      "...       ...          ...   ...         ...         ...        ...   \n",
      "1888     z969     Naftisol  Male           9          30         25   \n",
      "1889     z969     Naftisol  Male           9          30         30   \n",
      "1890     z969     Naftisol  Male           9          30         35   \n",
      "1891     z969     Naftisol  Male           9          30         40   \n",
      "1892     z969     Naftisol  Male           9          30         45   \n",
      "\n",
      "      Tumor Volume (mm3)  Metastatic Sites  \n",
      "0              45.000000                 0  \n",
      "1              38.825898                 0  \n",
      "2              35.014271                 1  \n",
      "3              34.223992                 1  \n",
      "4              32.997729                 1  \n",
      "...                  ...               ...  \n",
      "1888           63.145652                 2  \n",
      "1889           65.841013                 3  \n",
      "1890           69.176246                 4  \n",
      "1891           70.314904                 4  \n",
      "1892           73.867845                 4  \n",
      "\n",
      "[1893 rows x 8 columns]\n"
     ]
    }
   ],
   "source": [
    "# Dependencies and Setup\n",
    "import matplotlib.pyplot as plt\n",
    "import pandas as pd\n",
    "\n",
    "from scipy.stats import linregress\n",
    "\n",
    "# Study data files\n",
    "mouse_metadata_path = \"data/Mouse_metadata.csv\"\n",
    "study_results_path = \"data/Study_results.csv\"\n",
    "\n",
    "# Read the mouse data and the study results\n",
    "mouse_metadata = pd.read_csv(mouse_metadata_path)\n",
    "study_results = pd.read_csv(study_results_path)\n",
    "\n",
    "# Combine the data into a single dataset\n",
    "study_data_complete = pd.merge(mouse_metadata, study_results, how=\"left\", on=\"Mouse ID\")\n",
    "# Display the data table for preview\n",
    "print(study_data_complete)"
   ]
  },
  {
   "cell_type": "code",
   "execution_count": 451,
   "metadata": {},
   "outputs": [
    {
     "name": "stdout",
     "output_type": "stream",
     "text": [
      "1893\n"
     ]
    }
   ],
   "source": [
    "# Checking the number of mice.\n",
    "study_size = study_data_complete[\"Mouse ID\"].count()\n",
    "print(study_size)"
   ]
  },
  {
   "cell_type": "code",
   "execution_count": 452,
   "metadata": {},
   "outputs": [
    {
     "name": "stdout",
     "output_type": "stream",
     "text": [
      "0       False\n",
      "1268    False\n",
      "1267    False\n",
      "1266    False\n",
      "1265    False\n",
      "        ...  \n",
      "909      True\n",
      "917      True\n",
      "915      True\n",
      "911      True\n",
      "913      True\n",
      "Length: 1893, dtype: bool\n"
     ]
    }
   ],
   "source": [
    "# Getting the duplicate mice by ID number that shows up for Mouse ID and Timepoint. \n",
    "duplicates = study_data_complete.duplicated(subset=[\"Mouse ID\",\"Timepoint\"]).sort_values()\n",
    "\n",
    "print(duplicates)"
   ]
  },
  {
   "cell_type": "code",
   "execution_count": 453,
   "metadata": {},
   "outputs": [],
   "source": [
    "# Optional: Get all the data for the duplicate mouse ID. \n"
   ]
  },
  {
   "cell_type": "code",
   "execution_count": 454,
   "metadata": {},
   "outputs": [
    {
     "name": "stdout",
     "output_type": "stream",
     "text": [
      "     Mouse ID Drug Regimen     Sex  Age_months  Weight (g)  Timepoint  \\\n",
      "0        k403     Ramicane    Male          21          16          0   \n",
      "10       s185    Capomulin  Female           3          17          0   \n",
      "20       x401    Capomulin  Female          16          15          0   \n",
      "30       m601    Capomulin    Male          22          17          0   \n",
      "40       g791     Ramicane    Male          11          16          0   \n",
      "...       ...          ...     ...         ...         ...        ...   \n",
      "1858     z314     Stelasyn  Female          21          28          0   \n",
      "1860     z435     Propriva  Female          12          26          0   \n",
      "1863     z581    Infubinol  Female          24          25          0   \n",
      "1873     z795     Naftisol  Female          13          29          0   \n",
      "1883     z969     Naftisol    Male           9          30          0   \n",
      "\n",
      "      Tumor Volume (mm3)  Metastatic Sites  \n",
      "0                   45.0                 0  \n",
      "10                  45.0                 0  \n",
      "20                  45.0                 0  \n",
      "30                  45.0                 0  \n",
      "40                  45.0                 0  \n",
      "...                  ...               ...  \n",
      "1858                45.0                 0  \n",
      "1860                45.0                 0  \n",
      "1863                45.0                 0  \n",
      "1873                45.0                 0  \n",
      "1883                45.0                 0  \n",
      "\n",
      "[249 rows x 8 columns]\n"
     ]
    }
   ],
   "source": [
    "# Create a clean DataFrame by dropping the duplicate mouse by its ID.\n",
    "\n",
    "cleaned_data = study_data_complete.drop_duplicates(subset=[\"Mouse ID\"])\n",
    "print(cleaned_data)"
   ]
  },
  {
   "cell_type": "code",
   "execution_count": 455,
   "metadata": {},
   "outputs": [
    {
     "name": "stdout",
     "output_type": "stream",
     "text": [
      "249\n"
     ]
    }
   ],
   "source": [
    "# Checking the number of mice in the clean DataFrame.\n",
    "cleaned_data_size = cleaned_data[\"Mouse ID\"].count()\n",
    "print(cleaned_data_size)"
   ]
  },
  {
   "cell_type": "markdown",
   "metadata": {},
   "source": [
    "## Summary Statistics"
   ]
  },
  {
   "cell_type": "code",
   "execution_count": 456,
   "metadata": {},
   "outputs": [],
   "source": [
    "# Generate a summary statistics table of mean, median, variance, standard deviation, and SEM of the tumor volume for each regimen\n",
    "\n",
    "# Use groupby and summary statistical methods to calculate the following properties of each drug regimen: \n",
    "# mean, median, variance, standard deviation, and SEM of the tumor volume. \n",
    "# Assemble the resulting series into a single summary dataframe.\n",
    "cleaned_data_group = cleaned_data.groupby(\"Tumor Volume (mm3)\")\n",
    "average = cleaned_data_group.mean()\n",
    "median_value = cleaned_data_group.median()\n",
    "variance = cleaned_data_group.var()\n",
    "stand_dev = cleaned_data_group.std()\n",
    "data_SEM = cleaned_data_group.sem()"
   ]
  },
  {
   "cell_type": "code",
   "execution_count": 457,
   "metadata": {},
   "outputs": [
    {
     "name": "stdout",
     "output_type": "stream",
     "text": [
      "                    Avg Age(months)  Avg Weight(g)  Avg Timepoint  \\\n",
      "Tumor Volume (mm3)                                                  \n",
      "45.0                      12.730924      26.116466            0.0   \n",
      "\n",
      "                    Avg Metastatic Sites  Median Age(months)  \\\n",
      "Tumor Volume (mm3)                                             \n",
      "45.0                                 0.0                  13   \n",
      "\n",
      "                    Median Weight(g)  Median Timepoint  \\\n",
      "Tumor Volume (mm3)                                       \n",
      "45.0                              27                 0   \n",
      "\n",
      "                    Median   Metastatic Sites  variance Age(months)  \\\n",
      "Tumor Volume (mm3)                                                    \n",
      "45.0                                        0             52.253919   \n",
      "\n",
      "                    variance Weight(g)  variance Timepoint  \\\n",
      "Tumor Volume (mm3)                                           \n",
      "45.0                         13.667833                 0.0   \n",
      "\n",
      "                    variance Metastatic Sites  st deviation Age(months)  \\\n",
      "Tumor Volume (mm3)                                                        \n",
      "45.0                                      0.0                  7.228687   \n",
      "\n",
      "                    st deviation Weight(g)  vst deviation Timepoint  \\\n",
      "Tumor Volume (mm3)                                                    \n",
      "45.0                              3.697003                      0.0   \n",
      "\n",
      "                    st deviation Metastatic Sites  SEM Age(months)  \\\n",
      "Tumor Volume (mm3)                                                   \n",
      "45.0                                          0.0         0.458099   \n",
      "\n",
      "                    SEM Weight(g)  SEM Timepoint  SEM Metastatic Sites  \n",
      "Tumor Volume (mm3)                                                      \n",
      "45.0                     0.234288            0.0                   0.0  \n"
     ]
    }
   ],
   "source": [
    "# Generate a summary statistics table of mean, median, variance, standard deviation, and SEM of the tumor volume for each regimen\n",
    "summary_table = pd.merge(average, median_value, \"outer\", on=\"Tumor Volume (mm3)\")\n",
    "summary_table = summary_table.rename(columns={\"Age_months_x\":\"Avg Age(months)\", \"Weight (g)_x\":\n",
    "    \"Avg Weight(g)\", \"Timepoint_x\":\"Avg Timepoint\", \"Metastatic Sites_x\": \"Avg Metastatic Sites\",\n",
    "    \"Age_months_y\":\"Median Age(months)\", \"Weight (g)_y\":\n",
    "    \"Median Weight(g)\", \"Timepoint_y\":\"Median Timepoint\", \"Metastatic Sites_y\":\n",
    "                                          \"Median   Metastatic Sites\" })\n",
    "\n",
    "\n",
    "summary_table = summary_table.merge(variance, \"outer\", on=\"Tumor Volume (mm3)\")\n",
    "\n",
    "summary_table = summary_table.rename(columns={\"Age_months\":\"variance Age(months)\", \"Weight (g)\":\n",
    "    \"variance Weight(g)\", \"Timepoint\":\"variance Timepoint\", \"Metastatic Sites\":\n",
    "    \"variance Metastatic Sites\"})\n",
    "summary_table = summary_table.merge(stand_dev, \"outer\", on=\"Tumor Volume (mm3)\")\n",
    "\n",
    "summary_table = summary_table.rename(columns={\"Age_months\":\"st deviation Age(months)\", \"Weight (g)\":\n",
    "    \"st deviation Weight(g)\", \"Timepoint\":\"vst deviation Timepoint\", \"Metastatic Sites\":\n",
    "    \"st deviation Metastatic Sites\"})\n",
    "summary_table = summary_table.merge(data_SEM, \"outer\", on=\"Tumor Volume (mm3)\")\n",
    "summary_table = summary_table.rename(columns={\"Age_months\":\"SEM Age(months)\", \"Weight (g)\":\n",
    "    \"SEM Weight(g)\", \"Timepoint\":\"SEM Timepoint\", \"Metastatic Sites\":\n",
    "    \"SEM Metastatic Sites\"})\n",
    "print(summary_table)\n",
    "# Using the aggregation method, produce the same summary statistics in a single line\n"
   ]
  },
  {
   "cell_type": "markdown",
   "metadata": {},
   "source": [
    "## Bar and Pie Charts"
   ]
  },
  {
   "cell_type": "code",
   "execution_count": 458,
   "metadata": {},
   "outputs": [
    {
     "data": {
      "text/plain": "<Figure size 432x288 with 1 Axes>",
      "image/png": "[encoded data removed]"
     },
     "metadata": {
      "needs_background": "light"
     },
     "output_type": "display_data"
    }
   ],
   "source": [
    "# Generate a bar plot showing the total number of measurements taken on each drug regimen using pandas.\n",
    "drugs = cleaned_data[\"Drug Regimen\"].unique()\n",
    "drug_count = cleaned_data[\"Drug Regimen\"].value_counts()\n",
    "\n",
    "\n",
    "# drug_count = cleaned_data.count()\n",
    "\n",
    "ax = drug_count.plot.bar(x=\"Drug Regimen\")\n"
   ]
  },
  {
   "cell_type": "code",
   "execution_count": 459,
   "metadata": {},
   "outputs": [
    {
     "data": {
      "text/plain": "<Figure size 432x288 with 1 Axes>",
      "image/png": "[encoded data removed]"
     },
     "metadata": {
      "needs_background": "light"
     },
     "output_type": "display_data"
    }
   ],
   "source": [
    "# Generate a bar plot showing the total number of measurements taken on each drug regimen using using pyplot.\n",
    "drugs = cleaned_data[\"Drug Regimen\"].unique()\n",
    "drug_count = cleaned_data[\"Drug Regimen\"].value_counts()\n",
    "# drug_count = cleaned_data.count()\n",
    "\n",
    "\n",
    "ax = plt.bar(x=drugs, height=drug_count, width = 0.3, )"
   ]
  },
  {
   "cell_type": "code",
   "execution_count": 460,
   "metadata": {},
   "outputs": [
    {
     "data": {
      "text/plain": "<Figure size 432x288 with 1 Axes>",
      "image/png": "[encoded data removed]"
     },
     "metadata": {},
     "output_type": "display_data"
    }
   ],
   "source": [
    "# Generate a pie plot showing the distribution of female versus male mice using pandas\n",
    "gender = cleaned_data[\"Sex\"].value_counts(normalize=True)\n",
    "\n",
    "pdpie = gender.plot.pie()"
   ]
  },
  {
   "cell_type": "code",
   "execution_count": 461,
   "metadata": {},
   "outputs": [
    {
     "data": {
      "text/plain": "<Figure size 432x288 with 1 Axes>",
      "image/png": "[encoded data removed]"
     },
     "metadata": {},
     "output_type": "display_data"
    }
   ],
   "source": [
    "# Generate a pie plot showing the distribution of female versus male mice using pyplot\n",
    "\n",
    "pltpie = plt.pie(gender)"
   ]
  },
  {
   "cell_type": "markdown",
   "metadata": {},
   "source": [
    "## Quartiles, Outliers and Boxplots"
   ]
  },
  {
   "cell_type": "code",
   "execution_count": 462,
   "metadata": {},
   "outputs": [],
   "source": [
    "# Calculate the final tumor volume of each mouse across four of the treatment regimens:  \n",
    "# Capomulin, Ramicane, Infubinol, and Ceftamin\n",
    "\n",
    "# Start by getting the last (greatest) timepoint for each mouse\n",
    "\n",
    "# Merge this group df with the original dataframe to get the tumor volume at the last timepoint"
   ]
  },
  {
   "cell_type": "code",
   "execution_count": 463,
   "metadata": {},
   "outputs": [],
   "source": [
    "# Put treatments into a list for for loop (and later for plot labels)\n",
    "treatment_list = [\"Capomulin\", \"Ramicane\", \"Infubinol\", \"Ceftamin\"]\n",
    "\n",
    "\n",
    "# Create empty list to fill with tumor vol data (for plotting)\n",
    "tumor_vol_list = []\n",
    "\n",
    "# Calculate the IQR and quantitatively determine if there are any potential outliers. \n",
    "for drug in treatment_list:\n",
    "\n",
    "# Locate the rows which contain mice on each drug and get the tumor volumes\n",
    "    quartiles_store = study_data_complete.loc[study_data_complete['Drug Regimen'] == drug]\n",
    "    tumor_vol_list.append(quartiles_store[\"Tumor Volume (mm3)\"])\n",
    "\n",
    "# add subset\n",
    "\n",
    "    quartiles = quartiles_store[\"Tumor Volume (mm3)\"].quantile([0.25,0.5,0.75])\n",
    "\n",
    "    lowerq = quartiles[0.25]\n",
    "    upperq = quartiles[0.75]\n",
    "    iqr = upperq-lowerq\n",
    "    lower_bound = lowerq - (1.5*iqr)\n",
    "    upper_bound = upperq + (1.5*iqr)\n",
    "    outlier_occupancy = quartiles_store.loc[(quartiles_store['Tumor Volume (mm3)']\n",
    "                            < lower_bound) | (quartiles_store['Tumor Volume (mm3)']\n",
    "                                              > upper_bound)]\n",
    "# Determine outliers using upper and lower bounds"
   ]
  },
  {
   "cell_type": "code",
   "execution_count": 464,
   "metadata": {},
   "outputs": [
    {
     "data": {
      "text/plain": "<Figure size 432x288 with 1 Axes>",
      "image/png": "[encoded data removed]"
     },
     "metadata": {
      "needs_background": "light"
     },
     "output_type": "display_data"
    }
   ],
   "source": [
    "# Generate a box plot of the final tumor volume of each mouse across four regimens of interest\n",
    "\n",
    "boxplt1 = plt.boxplot(tumor_vol_list, labels=treatment_list)"
   ]
  },
  {
   "cell_type": "markdown",
   "metadata": {},
   "source": [
    "## Line and Scatter Plots"
   ]
  },
  {
   "cell_type": "code",
   "execution_count": 473,
   "metadata": {},
   "outputs": [
    {
     "data": {
      "text/plain": "<Figure size 432x288 with 1 Axes>",
      "image/png": "[encoded data removed]"
     },
     "metadata": {
      "needs_background": "light"
     },
     "output_type": "display_data"
    }
   ],
   "source": [
    "# Generate a line plot of tumor volume vs. time point for a mouse treated with Capomulin\n",
    "line_data = study_data_complete[[\"Tumor Volume (mm3)\", \"Timepoint\", \"Drug Regimen\"]]\n",
    "line_data = line_data.loc[line_data[\"Drug Regimen\"] == \"Capomulin\"]\n",
    "points = line_data[\"Timepoint\"]\n",
    "x_axis_data = line_data[\"Tumor Volume (mm3)\"]\n",
    "points = points.sort_values()\n",
    "x_axis_data = x_axis_data.sort_values()\n",
    "line_plot = plt.plot(x_axis_data, points)"
   ]
  },
  {
   "cell_type": "code",
   "execution_count": 466,
   "metadata": {},
   "outputs": [
    {
     "data": {
      "text/plain": "<Figure size 432x288 with 1 Axes>",
      "image/png": "[encoded data removed]"
     },
     "metadata": {
      "needs_background": "light"
     },
     "output_type": "display_data"
    }
   ],
   "source": [
    "# Generate a scatter plot of average tumor volume vs. mouse weight for the Capomulin regimen\n",
    "scatter_data = study_data_complete[[\"Tumor Volume (mm3)\", \"Weight (g)\", \"Drug Regimen\"]]\n",
    "scatter_data = scatter_data.loc[scatter_data[\"Drug Regimen\"] == \"Capomulin\"]\n",
    "\n",
    "scatter1 = plt.scatter(x= scatter_data[\"Tumor Volume (mm3)\"], y=scatter_data[\"Weight (g)\"])"
   ]
  },
  {
   "cell_type": "markdown",
   "metadata": {},
   "source": [
    "## Correlation and Regression"
   ]
  },
  {
   "cell_type": "code",
   "execution_count": 469,
   "metadata": {},
   "outputs": [
    {
     "data": {
      "text/plain": "<Figure size 432x288 with 1 Axes>",
      "image/png": "[encoded data removed]"
     },
     "metadata": {
      "needs_background": "light"
     },
     "output_type": "display_data"
    }
   ],
   "source": [
    "# Calculate the correlation coefficient and linear regression model \n",
    "# for mouse weight and average tumor volume for the Capomulin regimen\n",
    "corrr = scatter_data.corr()\n",
    "x_values = scatter_data[\"Tumor Volume (mm3)\"]\n",
    "y_values = scatter_data[\"Weight (g)\"]\n",
    "(slope, intercept, rvalue, pvalue, stderr) = linregress(x_values, y_values)\n",
    "regress_values = x_values * slope + intercept\n",
    "line_eq = \"y = \" + str(round(slope,2)) + \"x + \" + str(round(intercept,2))\n",
    "plt.scatter(x_values,y_values)\n",
    "plt.plot(x_values,regress_values,\"r-\")\n",
    "plt.annotate(line_eq,(30,16),fontsize=10,color=\"red\")\n",
    "plt.xlabel('Rooms in House')\n",
    "plt.ylabel('Median House Prices ($1000)')\n",
    "plt.show()\n"
   ]
  },
  {
   "cell_type": "code",
   "execution_count": 467,
   "metadata": {},
   "outputs": [],
   "source": []
  }
 ],
 "metadata": {
  "anaconda-cloud": {},
  "kernelspec": {
   "name": "python3",
   "language": "python",
   "display_name": "Python 3"
  },
  "language_info": {
   "codemirror_mode": {
    "name": "ipython",
    "version": 3
   },
   "file_extension": ".py",
   "mimetype": "text/x-python",
   "name": "python",
   "nbconvert_exporter": "python",
   "pygments_lexer": "ipython3",
   "version": "3.8.3"
  }
 },
 "nbformat": 4,
 "nbformat_minor": 4
}